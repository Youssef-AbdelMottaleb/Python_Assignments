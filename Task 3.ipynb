{
 "cells": [
  {
   "cell_type": "code",
   "execution_count": 43,
   "id": "e2075bd1",
   "metadata": {},
   "outputs": [
    {
     "name": "stdout",
     "output_type": "stream",
     "text": [
      " enter 10 integer values to print their average value \n",
      " \n",
      "1\n",
      "2\n",
      "3\n",
      "4\n",
      "5\n",
      "6\n",
      "7\n",
      "8\n",
      "9\n",
      "10\n",
      " the average of the given numbers is : 5.5\n"
     ]
    }
   ],
   "source": [
    "# Taking 10 integers from keyboard using loop and printing their average value on the screen\n",
    "\n",
    "print(\" enter 10 integer values to print their average value \\n \")\n",
    "# we declare sum and average variables and assign them to zero\n",
    "sum=0\n",
    "average=0\n",
    "# looping over the 10 values entered by the user using range() function\n",
    "for i in range(10):\n",
    "    # assigning the values to the variable number and convert it to integer type\n",
    "    number = int(input())\n",
    "    # the new sum value will the previous one plus number variable to get the summation of the numbers\n",
    "    sum+=number\n",
    "# calculating the average by dividing the sum over number of values entered ( 10 )\n",
    "average= sum/10\n",
    "# displaying the average of the numbers\n",
    "print(\" the average of the given numbers is :\",average)"
   ]
  },
  {
   "cell_type": "code",
   "execution_count": 20,
   "id": "629eb06b",
   "metadata": {},
   "outputs": [
    {
     "name": "stdout",
     "output_type": "stream",
     "text": [
      "enter an integer number\n",
      "8\n",
      "the Summation of numbers from 1 to 8 is : 36\n"
     ]
    }
   ],
   "source": [
    "# getting a number from the user and displaying the summation of the numbers from 1 to that number\n",
    "\n",
    "print(\"enter an integer number\")\n",
    "# casting the value entered by the use to integer type\n",
    "userNumber = int(input())\n",
    "# initalizing sum variable with zero \n",
    "sum =0\n",
    "# then we iterate over the values from 1 to the user's number using for loop and range() function to get the sequence of values\n",
    "# we increment the value of i by 1 to start from 1 ( default is 0 ) \n",
    "for i in range(userNumber+1):\n",
    "    # the new sum value will the previous one plus i\n",
    "    sum+=i\n",
    "# displaying the summation of numbers\n",
    "print(\"the Summation of numbers from 1 to \"+str(userNumber) +\" is :\",sum)"
   ]
  },
  {
   "cell_type": "code",
   "execution_count": 44,
   "id": "1f0651db",
   "metadata": {},
   "outputs": [
    {
     "name": "stdout",
     "output_type": "stream",
     "text": [
      "number 180 is greater than 150 \n",
      " \n",
      "number 200 is greater than 150 \n",
      " \n",
      "numbers in the list that are divisible by 5 and less than 150 are : [15, 55, 75, 150]\n"
     ]
    }
   ],
   "source": [
    "## Given a list, iterate it, and display numbers divisible by five, and if \n",
    "##  you find a number greater than 150, stop the loop iteration.\n",
    "\n",
    "list1 = [12, 15, 32, 42, 55, 75, 122, 132, 150, 180, 200]\n",
    "# we create a new empty list \n",
    "listNumbers=[]\n",
    "# using for loop to iterate over the list by using the len() function to get the size of the given list\n",
    "for i in range(len(list1)):\n",
    "    # if it is greater than 150 we print the item saying that this item can't be in the new list as it's value is over 150 and go to the next item of the list and repeat the conditions\n",
    "    if(list1[i]>150):\n",
    "        print(\"number \"+str(list1[i])+\" is greater than 150 \\n \")\n",
    "        continue\n",
    "    else:\n",
    "        # checking if the item in the list is divisible by five\n",
    "        # if yes we insert it in the new list\n",
    "        if(list1[i]%5==0):\n",
    "            listNumbers.append(list1[i])\n",
    "# displaying the new list \n",
    "print(\"numbers in the list that are divisible by 5 and less than 150 are :\",listNumbers)"
   ]
  },
  {
   "cell_type": "code",
   "execution_count": 45,
   "id": "69a3d0a6",
   "metadata": {},
   "outputs": [
    {
     "name": "stdout",
     "output_type": "stream",
     "text": [
      "please enter the number of terms : 10\n",
      "Fibonacci sequence: \n",
      "[0, 1, 1, 2, 3, 5, 8, 13, 21, 34]\n"
     ]
    }
   ],
   "source": [
    "#  displaying the Fibonacci sequence up to n-th term\n",
    "\n",
    "# first we take a number from the user to end the sequence at\n",
    "numOfTerms =int(input(\"please enter the number of terms : \"))\n",
    "# n1 and n2 are the first two terms in the sequence, count is the iterable of the sequence\n",
    "n1,n2,count=0,1,0\n",
    "# we initialize an empty list to print the sequence later\n",
    "fibonacciList=[]\n",
    "# check if the number of terms is valid\n",
    "if(numOfTerms<0):\n",
    "    print(\"cannot implied on negatives please enter a postive integer \")\n",
    "\n",
    "    # if there is only one term, return n1 which is the first item in the sequence\n",
    "elif(numOfTerms==1):\n",
    "    print(\"Fibonacci sequence upto\",numOfTerms,\": \")\n",
    "\n",
    "# generating the fibonacci sequence\n",
    "\n",
    "else:\n",
    "    print(\"Fibonacci sequence: \")\n",
    "    while(count<numOfTerms):\n",
    "    # inserting the terms in the list\n",
    "        fibonacciList.append(n1)\n",
    "        # n3 is the new n term which is the summation of of it's previous terms ( nth term : n+1 = n + n-1)\n",
    "        n3 = n1 + n2\n",
    "        # updating values of n1 and n2 to their next term \n",
    "        n1 = n2\n",
    "        n2 = n3\n",
    "        # increasing the value of count by 1 to ensure the end of the loop\n",
    "        count+=1\n",
    "\n",
    "# printing the fibonacciList\n",
    "print(fibonacciList)"
   ]
  },
  {
   "cell_type": "code",
   "execution_count": 13,
   "id": "59e22c17",
   "metadata": {},
   "outputs": [
    {
     "name": "stdout",
     "output_type": "stream",
     "text": [
      "24567\n"
     ]
    }
   ],
   "source": [
    "# Reverse a given integer number 76542\n",
    "# we take the number as a string and store each digit in it in a list using for loop\n",
    "num = \"76542\"\n",
    "myList=[i for i in num]   \n",
    "# we reverse the list using reverse() function\n",
    "myList.reverse()\n",
    "# then we join the list using join() method as a single item\n",
    "reverseNum=\"\".join(myList)\n",
    "# printing the list\n",
    "print(reverseNum)"
   ]
  },
  {
   "cell_type": "code",
   "execution_count": null,
   "id": "0afd1759",
   "metadata": {},
   "outputs": [],
   "source": []
  }
 ],
 "metadata": {
  "kernelspec": {
   "display_name": "Python 3 (ipykernel)",
   "language": "python",
   "name": "python3"
  },
  "language_info": {
   "codemirror_mode": {
    "name": "ipython",
    "version": 3
   },
   "file_extension": ".py",
   "mimetype": "text/x-python",
   "name": "python",
   "nbconvert_exporter": "python",
   "pygments_lexer": "ipython3",
   "version": "3.9.7"
  }
 },
 "nbformat": 4,
 "nbformat_minor": 5
}

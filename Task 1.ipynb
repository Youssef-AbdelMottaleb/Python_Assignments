{
 "cells": [
  {
   "cell_type": "code",
   "execution_count": 1,
   "id": "fa563892",
   "metadata": {},
   "outputs": [
    {
     "name": "stdout",
     "output_type": "stream",
     "text": [
      "11\n"
     ]
    }
   ],
   "source": [
    "# getting the length of hello world string by using the len function\n",
    "\n",
    "print(len(\"Hello World\"))"
   ]
  },
  {
   "cell_type": "code",
   "execution_count": 2,
   "id": "e04ef9ab",
   "metadata": {},
   "outputs": [
    {
     "name": "stdout",
     "output_type": "stream",
     "text": [
      "p\n"
     ]
    }
   ],
   "source": [
    "### Get the first character of the second string.\n",
    "\n",
    "\n",
    "# we can get the first character of the string using it's index \n",
    "# notice that index starts from 0 and ends in index n-1 ( n is the length of the string )\n",
    "\n",
    "print(\"python is easy\"[0])"
   ]
  },
  {
   "cell_type": "code",
   "execution_count": null,
   "id": "7a3b6651",
   "metadata": {},
   "outputs": [],
   "source": [
    "### - Return the first string without any whitespace at the beginning or the end.\n",
    "\n",
    "# We first put the string in split function to return it's values in a list based on the delimiter( which is the whitespace by default) and assign it to variable\n",
    "\n",
    "y=\"Hello World\".split(\" \")\n",
    "\n",
    "# then we create another variable and assign it to null so we can use it to concatenate the string using join function\n",
    "\n",
    "a=\"\"\n",
    "print(a.join(y))"
   ]
  },
  {
   "cell_type": "code",
   "execution_count": 14,
   "id": "78afe181",
   "metadata": {},
   "outputs": [
    {
     "name": "stdout",
     "output_type": "stream",
     "text": [
      "PYTHON IS EASY\n",
      "Python is easy\n"
     ]
    }
   ],
   "source": [
    "#  - Convert the second string to upper case.\n",
    "\n",
    "# we use upper function to convert all lowercase characters to uppercase \n",
    "\n",
    "print(\"python is easy\".upper())\n",
    "\n",
    "# but if we want to capitalize only the first character we use the capitalize function\n",
    "\n",
    "print(\"python is easy\".capitalize())\n"
   ]
  },
  {
   "cell_type": "code",
   "execution_count": null,
   "id": "86464368",
   "metadata": {},
   "outputs": [],
   "source": []
  }
 ],
 "metadata": {
  "kernelspec": {
   "display_name": "Python 3 (ipykernel)",
   "language": "python",
   "name": "python3"
  },
  "language_info": {
   "codemirror_mode": {
    "name": "ipython",
    "version": 3
   },
   "file_extension": ".py",
   "mimetype": "text/x-python",
   "name": "python",
   "nbconvert_exporter": "python",
   "pygments_lexer": "ipython3",
   "version": "3.9.7"
  }
 },
 "nbformat": 4,
 "nbformat_minor": 5
}

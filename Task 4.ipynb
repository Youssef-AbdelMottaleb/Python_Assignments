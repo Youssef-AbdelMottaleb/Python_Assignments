{
 "cells": [
  {
   "cell_type": "code",
   "execution_count": 14,
   "id": "770f7f04",
   "metadata": {},
   "outputs": [],
   "source": [
    "# : Creating a Vehicle class with max_speed and mileage instance attributes\n",
    "\n",
    "class Vehicle:\n",
    "    # defining a parameterized constructor that takes max_speed and mileage instance attributes\n",
    "    def __init__(self,name,max_speed,mileage):\n",
    "        self.name=name\n",
    "        self.max_speed=max_speed\n",
    "        self.mileage=mileage\n",
    "        \n",
    "    # defining a method that get the capacity of the vehicle through the capacity instance\n",
    "    \n",
    "    def seating_capacity(self, capacity):\n",
    "        return f\"The seating capacity of a {self.name} is {capacity} passengers\""
   ]
  },
  {
   "cell_type": "code",
   "execution_count": 15,
   "id": "ac534d37",
   "metadata": {},
   "outputs": [],
   "source": [
    "# : Create a Bus class that inherits from the Vehicle class. Give the capacity \n",
    "#   argument of Bus.seating_capacity() a default value of 50.\n",
    "\n",
    "class Bus (Vehicle):\n",
    "    def seating_capacity(self, capacity = 50):\n",
    "        return f\"The seating capacity of a {self.name} is {capacity} passengers\""
   ]
  },
  {
   "cell_type": "code",
   "execution_count": 16,
   "id": "55fbb2f9",
   "metadata": {},
   "outputs": [],
   "source": [
    "# : Creating an object of bus class and determine if it is an instance of vehicle class\n",
    "\n",
    "schoolBus = Bus(\"Volvo\", 120, 50)"
   ]
  },
  {
   "cell_type": "code",
   "execution_count": 17,
   "id": "109d4cdd",
   "metadata": {},
   "outputs": [
    {
     "name": "stdout",
     "output_type": "stream",
     "text": [
      "Bus name is : Volvo\n",
      "Bus maximum speed is : 120\n",
      "Bus mileage is : 50\n",
      "The seating capacity of a Volvo is 50 passengers\n",
      "The seating capacity of a Volvo is 80 passengers\n"
     ]
    }
   ],
   "source": [
    "# displaying the school bus object data\n",
    "\n",
    "print(\"Bus name is :\",schoolBus.name)\n",
    "print(\"Bus maximum speed is :\",schoolBus.max_speed)\n",
    "print(\"Bus mileage is :\",schoolBus.mileage)\n",
    "print(schoolBus.seating_capacity())  # set to it's default ( 50 )\n",
    "\n",
    "# overriding the bus's capacity\n",
    "\n",
    "print(schoolBus.seating_capacity(80))"
   ]
  },
  {
   "cell_type": "code",
   "execution_count": 61,
   "id": "3c510969",
   "metadata": {},
   "outputs": [],
   "source": [
    "# Create a Cricle class and intialize it with radius. Make two methods\n",
    "# getArea and getCircumference inside this class.\n",
    "\n",
    "class Circle:\n",
    "    pi= 22/7\n",
    "    # defining a parameterized constructor that takes radius instance attribute\n",
    "    def __init__(self):\n",
    "            radius=0\n",
    "    # method to check if the radius value is positive\n",
    "    def checkRadius(self,radius):\n",
    "        if(radius>=0):\n",
    "            return True\n",
    "        else:\n",
    "            print(\"radius must be a positive value \")\n",
    "            return False\n",
    "    # defining a method that gets the area of the circle through the radius instance\n",
    "    def getArea(self,radius):\n",
    "        # if radius is positive\n",
    "        if(self.checkRadius(radius)):         \n",
    "            return f\"The circle's area is : {self.pi*radius*radius}\"\n",
    "        # if not return null\n",
    "        return \"\"\n",
    "    # defining a method that gets the Circumference of the circle through the radius instance\n",
    "    def getCircumference(self,radius):\n",
    "        # if radius is positive\n",
    "        if(self.checkRadius(radius)):     \n",
    "            return f\"The circle's Circumference is : {2*self.pi*radius}\"\n",
    "        # if not return null\n",
    "        return \"\""
   ]
  },
  {
   "cell_type": "code",
   "execution_count": 62,
   "id": "8486f7db",
   "metadata": {},
   "outputs": [
    {
     "name": "stdout",
     "output_type": "stream",
     "text": [
      "The circle's area is : 314.2857142857143\n",
      "The circle's Circumference is : 62.857142857142854\n"
     ]
    }
   ],
   "source": [
    "# creating object c1 from circle class and invoking it's methods\n",
    "c1=Circle()\n",
    "print(c1.getArea(10))\n",
    "print(c1.getCircumference(10))"
   ]
  },
  {
   "cell_type": "code",
   "execution_count": 20,
   "id": "ce9a6307",
   "metadata": {},
   "outputs": [],
   "source": [
    "# Create a Temprature class. Make two methods :\n",
    "# 1. convertFahrenheit - It will take celsius and will print it into Fahrenheit.\n",
    "# 2. convertCelsius - It will take Fahrenheit and will convert it into Celsius.\n",
    "\n",
    "class Temprature:\n",
    "    def convertToFahrenheit(self):\n",
    "        degree=float(input(\"please enter the temperature in celsius : \"))\n",
    "        return f\"The temperature from celsius to fahrenheit is : {degree*9/5+32}\"\n",
    "    def convertToCelsius(self):\n",
    "        degree=float(input(\"please enter the temperature in fahrenheit : \"))\n",
    "        return f\"The temperature from fahrenheit to celsius is : {(degree-32)*5/9}\""
   ]
  },
  {
   "cell_type": "code",
   "execution_count": 21,
   "id": "98ffc42b",
   "metadata": {},
   "outputs": [
    {
     "name": "stdout",
     "output_type": "stream",
     "text": [
      "please enter the temperature in fahrenheit : 30\n",
      "The temperature from fahrenheit to celsius is : -1.1111111111111112\n",
      "\n",
      "please enter the temperature in celsius : 23\n",
      "The temperature from celsius to fahrenheit is : 73.4\n"
     ]
    }
   ],
   "source": [
    "# creating object temp from temperature class and invoking it's methods\n",
    "\n",
    "temp= Temprature()\n",
    "print(temp.convertToCelsius()+\"\\n\")\n",
    "print(temp.convertToFahrenheit())"
   ]
  },
  {
   "cell_type": "code",
   "execution_count": 96,
   "id": "c6ee4b22",
   "metadata": {},
   "outputs": [],
   "source": [
    "# importing datetime class from datetime module to the the current time\n",
    "from datetime import datetime\n",
    "\n",
    "# Creating a Time class and initialize it with hours and minutes\n",
    "\n",
    "class Time:\n",
    "    \n",
    "    def __init__(self):\n",
    "        hours=0\n",
    "        minutes=0\n",
    "        \n",
    "# 1. Make a method addTime which should take two time object and add them. E.g.- (2 hour and 50 min)+(1 hr and 20 min)\n",
    "# is (4 hr and 10 min)\n",
    "    \n",
    "    def addTime(self,addedHours,addedMinutes,hours,minutes):\n",
    "        # checking if the values of minutes entered by the user is less than 60 and postive (the value shoud never exceed or be equal to 60 )\n",
    "        # and checking if hours values are postive too\n",
    "        if((minutes<60 and minutes>=0) and (addedMinutes<60 and addedMinutes>=0) and hours >=0 and addedHours>=0):\n",
    "            self.totalHours=addedHours+hours\n",
    "            self.totalMinutes=addedMinutes+minutes\n",
    "            if(self.totalMinutes)>=60:\n",
    "                # same value but with a correct view\n",
    "                self.totalHours+=1\n",
    "                self.totalMinutes-=60\n",
    "                return f\"The sum of two times is : {self.totalHours} hours and {self.totalMinutes} minutes\"\n",
    "            else:\n",
    "                return f\"The sum of two times is : {self.totalHours} hours and {self.totalMinutes} minutes\"\n",
    "        # if the values are negatives\n",
    "        elif(minutes<0 or addedMinutes<0 or hours<0 or addedHours<0):\n",
    "            print(\"must provide a postive a value \")\n",
    "            return \"\"\n",
    "        else:\n",
    "            # if it's greater than 60\n",
    "            print(\"must provide minutes value less than 60 \")\n",
    "            return \"\"\n",
    "# 3. Making a method DisplayMinute which display the total minutes in the Time. E.g.- (1 hr 2 min) should display 62 minutes\n",
    "\n",
    "    def displayMinutes(self,hours,minutes):\n",
    "        # checking if the value of minutes entered by the user is less than 60 (the value shoud never exceed or be equal to 60 )\n",
    "        if((minutes<60 and minutes>=0) and hours>=0):\n",
    "            # multiplying the hours by 60 to get it's value in minutes and adding the minutes in it\n",
    "            totalMinutes= hours*60+minutes\n",
    "            return f\"The total time in minutes is : {totalMinutes}\"\n",
    "        elif(minutes<0 or hours<0):\n",
    "            print(\"must provide a postive value \")\n",
    "            return \"\"\n",
    "        else:\n",
    "            # if it's greater than 60\n",
    "            print(\"must provide minutes value less than 60 \")\n",
    "            return \"\"\n",
    "    \n",
    "# 3. Making a method displayTime which print the time\n",
    "\n",
    "    def displayTime(self):\n",
    "        self.now = datetime.now()\n",
    "        current_time = self.now.strftime(\"%H:%M:%S\")\n",
    "        return f\"The time is : {current_time}\"\n",
    "        \n",
    "        "
   ]
  },
  {
   "cell_type": "code",
   "execution_count": 97,
   "id": "77b8ac1c",
   "metadata": {},
   "outputs": [
    {
     "name": "stdout",
     "output_type": "stream",
     "text": [
      "The total time in minutes is : 163\n",
      "The sum of two times is : 5 hours and 15 minutes\n",
      "The time is : 14:43:21\n"
     ]
    }
   ],
   "source": [
    "# creating object t1 from Time class and invoking it's methods giving it's arguments\n",
    "\n",
    "t1 =Time()\n",
    "print(t1.displayMinutes(2,43))\n",
    "print(t1.addTime(2,30,2,45))\n",
    "print(t1.displayTime()) # displayTime() function will display the current time using 24 hours format through the runtime of the code"
   ]
  }
 ],
 "metadata": {
  "kernelspec": {
   "display_name": "Python 3 (ipykernel)",
   "language": "python",
   "name": "python3"
  },
  "language_info": {
   "codemirror_mode": {
    "name": "ipython",
    "version": 3
   },
   "file_extension": ".py",
   "mimetype": "text/x-python",
   "name": "python",
   "nbconvert_exporter": "python",
   "pygments_lexer": "ipython3",
   "version": "3.9.7"
  }
 },
 "nbformat": 4,
 "nbformat_minor": 5
}

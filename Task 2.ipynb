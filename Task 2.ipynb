{
 "cells": [
  {
   "cell_type": "code",
   "execution_count": 20,
   "id": "f4581665",
   "metadata": {},
   "outputs": [
    {
     "name": "stdout",
     "output_type": "stream",
     "text": [
      "banana\n"
     ]
    }
   ],
   "source": [
    "#  printing the second item in the list ( we access the items in the list by it's index )\n",
    "# (index start from zero )\n",
    "\n",
    "fruits=[\"apple\",\"banana\",\"cherry\"]\n",
    "print(fruits[1])"
   ]
  },
  {
   "cell_type": "code",
   "execution_count": 21,
   "id": "5ee08716",
   "metadata": {},
   "outputs": [
    {
     "name": "stdout",
     "output_type": "stream",
     "text": [
      "['kiwi', 'banana', 'cherry']\n"
     ]
    }
   ],
   "source": [
    "# changing the value of apple to kiwi in the list\n",
    "fruits=[\"apple\",\"banana\",\"cherry\"]\n",
    "\n",
    "fruits[0]=\"kiwi\"\n",
    "\n",
    "print(fruits)"
   ]
  },
  {
   "cell_type": "code",
   "execution_count": 22,
   "id": "8b821153",
   "metadata": {},
   "outputs": [
    {
     "name": "stdout",
     "output_type": "stream",
     "text": [
      "['kiwi', 'lemon', 'banana', 'cherry']\n"
     ]
    }
   ],
   "source": [
    "# inserting lemon as the second item in the list by using insert method and give it the index we want to set our new element in\n",
    "\n",
    "fruits.insert(1,\"lemon\")\n",
    "print(fruits)"
   ]
  },
  {
   "cell_type": "code",
   "execution_count": 23,
   "id": "ebfe0928",
   "metadata": {},
   "outputs": [
    {
     "name": "stdout",
     "output_type": "stream",
     "text": [
      "cherry\n"
     ]
    }
   ],
   "source": [
    "# using negative indexing to print the last item in the list\n",
    "\n",
    "print(fruits[-1])"
   ]
  },
  {
   "cell_type": "code",
   "execution_count": 24,
   "id": "1c324334",
   "metadata": {},
   "outputs": [
    {
     "name": "stdout",
     "output_type": "stream",
     "text": [
      "['cherry', 'orange', 'kiwi']\n"
     ]
    }
   ],
   "source": [
    "# using a range of indexes to print third , fourth and fifth item in the list by their indices\n",
    "\n",
    "fruits=[\"apple\",\"banana\",\"cherry\",\"orange\",\"kiwi\",\"melon\",\"mango\"]\n",
    "print(fruits[2:5])"
   ]
  },
  {
   "cell_type": "code",
   "execution_count": 25,
   "id": "38aa8fef",
   "metadata": {},
   "outputs": [
    {
     "name": "stdout",
     "output_type": "stream",
     "text": [
      "printing the original list : [100, 200, 300, 400, 500]\n",
      "printing the reversed list : [500, 400, 300, 200, 100]\n"
     ]
    }
   ],
   "source": [
    "#  reversing a list by using reverse() function\n",
    "\n",
    "nums=[100,200,300,400,500]\n",
    "print(\"printing the original list :\",nums)\n",
    "\n",
    "nums.reverse()\n",
    "print(\"printing the reversed list :\", nums)"
   ]
  },
  {
   "cell_type": "code",
   "execution_count": 26,
   "id": "490c6361",
   "metadata": {},
   "outputs": [
    {
     "name": "stdout",
     "output_type": "stream",
     "text": [
      "[10, 20, [300, 400, [5000, 6000], 500], 30, 40]\n",
      "[10, 20, [300, 400, [5000, 6000, 7000], 500], 30, 40]\n"
     ]
    }
   ],
   "source": [
    "#  adding item 7000 after item 6000 in the same list \n",
    "\n",
    "nums=[10,20,[300,400,[5000,6000],500],30,40]\n",
    "print(nums)\n",
    "# we use indices of the list first index for the outer list and second index for the inner one\n",
    "\n",
    "nums[2][2].append(7000)\n",
    "print(nums)"
   ]
  },
  {
   "cell_type": "code",
   "execution_count": 27,
   "id": "0450970f",
   "metadata": {},
   "outputs": [
    {
     "name": "stdout",
     "output_type": "stream",
     "text": [
      "{'Ahmed': 5000, 'Samar': 6500, 'Hayam': 5000, 'Nagwa': 4500}\n",
      "The given key exists in the dictionary\n"
     ]
    }
   ],
   "source": [
    "#  check if an employee exists in the dictionary\n",
    "\n",
    "emps_salaries={\"Ahmed\":5000,\"Samar\":6500,\"Hayam\":5000,\"Nagwa\":4500}\n",
    "\n",
    "print(emps_salaries)\n",
    "\n",
    "# we take the key we want to search for and assign it to a variable and then use a for loop to iterate over the dictionary \n",
    "# to search for the key\n",
    "\n",
    "keyToFind=\"Samar\"\n",
    "\n",
    "# if in the dictionary\n",
    "if(keyToFind in emps_salaries.keys()):\n",
    "      print(\"The given key exists in the dictionary\")\n",
    "# if not\n",
    "else:\n",
    "      print(\"The given key doesn't exists in the dictionary\")\n",
    "\n"
   ]
  },
  {
   "cell_type": "code",
   "execution_count": 28,
   "id": "eace6180",
   "metadata": {},
   "outputs": [
    {
     "name": "stdout",
     "output_type": "stream",
     "text": [
      "{'Ahmed': 5000, 'Samar': 6500, 'Hayam': 5000, 'Nagwa': 4500}\n",
      "this value doesn't exists in the list \n"
     ]
    }
   ],
   "source": [
    "# checking if any of the employees's salary = 6000\n",
    "# we use values() function to iterate over the values in the dictionary \n",
    "\n",
    "emps_salaries={\"Ahmed\":5000,\"Samar\":6500,\"Hayam\":5000,\"Nagwa\":4500}\n",
    "\n",
    "print(emps_salaries)\n",
    "salary=6000\n",
    "if(salary not in emps_salaries.values()):\n",
    "    # if not exists\n",
    "    print(\"this value doesn't exists in the list \")\n",
    "else:\n",
    "    # if value exists\n",
    "    print(\"this value exists in the list \")\n"
   ]
  },
  {
   "cell_type": "code",
   "execution_count": 29,
   "id": "3be23a6c",
   "metadata": {},
   "outputs": [
    {
     "name": "stdout",
     "output_type": "stream",
     "text": [
      "employee name is : Ahmed and his/her salary is : 5000\n",
      "employee name is : Samar and his/her salary is : 6500\n",
      "employee name is : Hayam and his/her salary is : 5000\n",
      "employee name is : Nagwa and his/her salary is : 4500\n"
     ]
    }
   ],
   "source": [
    "#  iterate over emps_salaries using for loop and printing each employee name and salary\n",
    "\n",
    "# we use items() function to return a key : value pair of the dictionary and iterate over the dctionary using for loop with two variables x for keys and y for values\n",
    "\n",
    "emps_salaries={\"Ahmed\":5000,\"Samar\":6500,\"Hayam\":5000,\"Nagwa\":4500}\n",
    "\n",
    "for x,y in emps_salaries.items():\n",
    "    \n",
    "    # printing each employee name and salary\n",
    "  print(\"employee name is :\",x,\"and his/her salary is :\",y)"
   ]
  },
  {
   "cell_type": "code",
   "execution_count": 30,
   "id": "21fade8a",
   "metadata": {},
   "outputs": [
    {
     "name": "stdout",
     "output_type": "stream",
     "text": [
      "['a', 'b', ['c', ['d', 'e', ['f', 'g', 'h', 'i', 'j'], 'k'], 'l'], 'm', 'n']\n"
     ]
    }
   ],
   "source": [
    "# extending a small list within another nested list\n",
    "\n",
    "nums=[\"a\",\"b\",[\"c\",[\"d\",\"e\",[\"f\",\"g\"],\"k\"],\"l\"],\"m\",\"n\"]\n",
    "\n",
    "subList=[\"h\",\"i\",\"j\"]\n",
    "\n",
    "# we use indices to access the items within the large list and extend the sublist in the place we want \n",
    "# using extend() function to insert the sublist in the original list and count it as one variable\n",
    "\n",
    "nums[2][1][2].extend(subList)\n",
    "\n",
    "print(nums)"
   ]
  }
 ],
 "metadata": {
  "kernelspec": {
   "display_name": "Python 3 (ipykernel)",
   "language": "python",
   "name": "python3"
  },
  "language_info": {
   "codemirror_mode": {
    "name": "ipython",
    "version": 3
   },
   "file_extension": ".py",
   "mimetype": "text/x-python",
   "name": "python",
   "nbconvert_exporter": "python",
   "pygments_lexer": "ipython3",
   "version": "3.9.7"
  }
 },
 "nbformat": 4,
 "nbformat_minor": 5
}
